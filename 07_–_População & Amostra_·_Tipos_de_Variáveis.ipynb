{
  "nbformat": 4,
  "nbformat_minor": 0,
  "metadata": {
    "colab": {
      "provenance": [],
      "authorship_tag": "ABX9TyO8Q2IyHQ8gF66kiZhR0kVA",
      "include_colab_link": true
    },
    "kernelspec": {
      "name": "python3",
      "display_name": "Python 3"
    },
    "language_info": {
      "name": "python"
    }
  },
  "cells": [
    {
      "cell_type": "markdown",
      "metadata": {
        "id": "view-in-github",
        "colab_type": "text"
      },
      "source": [
        "<a href=\"https://colab.research.google.com/github/phslopes/senai_python_data_science-/blob/main/07_%E2%80%93_Popula%C3%A7%C3%A3o%E2%80%AF%26%E2%80%AFAmostra_%C2%B7_Tipos_de_Vari%C3%A1veis.ipynb\" target=\"_parent\"><img src=\"https://colab.research.google.com/assets/colab-badge.svg\" alt=\"Open In Colab\"/></a>"
      ]
    },
    {
      "cell_type": "code",
      "source": [
        "import pandas as pd\n",
        "df = pd.read_csv('vinhos.csv')\n",
        "media_populacao = df['volume_hl'].mean()\n",
        "amostra = df.sample(frac=0.05, random_state=42)\n",
        "media_amostra = amostra['volume_hl'].mean()\n",
        "print(round(media_populacao,2),round(media_amostra,2))"
      ],
      "metadata": {
        "colab": {
          "base_uri": "https://localhost:8080/"
        },
        "id": "nTRlZV7pyT81",
        "outputId": "e9421b74-cf6e-4837-96ce-a513a17c8697"
      },
      "execution_count": null,
      "outputs": [
        {
          "output_type": "stream",
          "name": "stdout",
          "text": [
            "2798.19 2871.31\n"
          ]
        }
      ]
    },
    {
      "cell_type": "code",
      "source": [
        "df = pd.read_csv('vinhos.csv')\n",
        "media_populacao = df['volume_hl'].mean()\n",
        "amostra = df.sample(frac=0.05, random_state=41)\n",
        "media_amostra = amostra['volume_hl'].mean()\n",
        "print(round(media_populacao,2),round(media_amostra,2))"
      ],
      "metadata": {
        "colab": {
          "base_uri": "https://localhost:8080/"
        },
        "id": "PtegBYDR7Xhs",
        "outputId": "d715f4d1-fb0d-468d-87a6-51555946d0f3"
      },
      "execution_count": null,
      "outputs": [
        {
          "output_type": "stream",
          "name": "stdout",
          "text": [
            "2798.19 2836.04\n"
          ]
        }
      ]
    },
    {
      "cell_type": "code",
      "source": [
        "df = pd.read_csv('vinhos.csv')\n",
        "media_populacao = df['volume_hl'].mean()\n",
        "amostra = df.sample(frac=0.05, random_state=43)\n",
        "media_amostra = amostra['volume_hl'].mean()\n",
        "print(round(media_populacao,2),round(media_amostra,2))"
      ],
      "metadata": {
        "colab": {
          "base_uri": "https://localhost:8080/"
        },
        "id": "DedvixL-7aJc",
        "outputId": "8e659a8f-a7e5-40a5-973b-3334f63feea0"
      },
      "execution_count": null,
      "outputs": [
        {
          "output_type": "stream",
          "name": "stdout",
          "text": [
            "2798.19 2885.19\n"
          ]
        }
      ]
    },
    {
      "cell_type": "code",
      "source": [
        "df = pd.read_csv('vinhos.csv')\n",
        "media_populacao = df['volume_hl'].mean()\n",
        "amostra = df.sample(frac=0.05, random_state=44)\n",
        "media_amostra = amostra['volume_hl'].mean()\n",
        "print(round(media_populacao,2),round(media_amostra,2))"
      ],
      "metadata": {
        "colab": {
          "base_uri": "https://localhost:8080/"
        },
        "id": "zSCkLvl87c5s",
        "outputId": "895546c5-5fed-4a34-d799-9aac87c8a0e9"
      },
      "execution_count": null,
      "outputs": [
        {
          "output_type": "stream",
          "name": "stdout",
          "text": [
            "2798.19 2810.51\n"
          ]
        }
      ]
    },
    {
      "cell_type": "code",
      "source": [
        "df = pd.read_csv('vinhos.csv')\n",
        "media_populacao = df['volume_hl'].mean()\n",
        "amostra = df.sample(frac=0.05, random_state=45)\n",
        "media_amostra = amostra['volume_hl'].mean()\n",
        "print(round(media_populacao,2),round(media_amostra,2))"
      ],
      "metadata": {
        "colab": {
          "base_uri": "https://localhost:8080/"
        },
        "id": "RrAlh9Cn7gY8",
        "outputId": "162f5877-4e4b-40a7-8ebf-a1f030a0aa90"
      },
      "execution_count": null,
      "outputs": [
        {
          "output_type": "stream",
          "name": "stdout",
          "text": [
            "2798.19 2834.54\n"
          ]
        }
      ]
    },
    {
      "cell_type": "markdown",
      "source": [
        "\n",
        "porque a diferença de dados que vem da amostra é referente apenas a uma parcela da população e não ela como um todo, por isso o status do numero aleatorio muda a tendencia dos dados da amostra.\n",
        "---\n",
        "\n"
      ],
      "metadata": {
        "id": "6eJPOiPc7zIL"
      }
    },
    {
      "cell_type": "code",
      "source": [
        "for i in range(5):\n",
        "  media_populacao = df['volume_hl'].mean()\n",
        "  amostra = df.sample(frac=0.05, random_state=40+i)\n",
        "  media_amostra = amostra['volume_hl'].mean()\n",
        "  print(round(media_populacao,2),round(media_amostra,2))"
      ],
      "metadata": {
        "colab": {
          "base_uri": "https://localhost:8080/"
        },
        "id": "Jp2cYqWH8iSs",
        "outputId": "1f822f4b-2a9e-4ac1-875b-c2d22571f1fa"
      },
      "execution_count": null,
      "outputs": [
        {
          "output_type": "stream",
          "name": "stdout",
          "text": [
            "2798.19 2802.54\n",
            "2798.19 2836.04\n",
            "2798.19 2871.31\n",
            "2798.19 2885.19\n",
            "2798.19 2810.51\n"
          ]
        }
      ]
    }
  ]
}